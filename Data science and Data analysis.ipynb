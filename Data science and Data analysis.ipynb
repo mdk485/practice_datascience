{
 "cells": [
  {
   "cell_type": "markdown",
   "id": "d038e40c",
   "metadata": {},
   "source": [
    "Data science interview preparation and Data analysis practice"
   ]
  },
  {
   "cell_type": "code",
   "execution_count": 1,
   "id": "e06a34ec",
   "metadata": {},
   "outputs": [
    {
     "name": "stdout",
     "output_type": "stream",
     "text": [
      "hello python\n"
     ]
    }
   ],
   "source": [
    "print('hello python')"
   ]
  }
 ],
 "metadata": {
  "kernelspec": {
   "display_name": "Python 3 (ipykernel)",
   "language": "python",
   "name": "python3"
  },
  "language_info": {
   "codemirror_mode": {
    "name": "ipython",
    "version": 3
   },
   "file_extension": ".py",
   "mimetype": "text/x-python",
   "name": "python",
   "nbconvert_exporter": "python",
   "pygments_lexer": "ipython3",
   "version": "3.11.5"
  }
 },
 "nbformat": 4,
 "nbformat_minor": 5
}
